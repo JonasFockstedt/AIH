{
 "cells": [
  {
   "cell_type": "markdown",
   "metadata": {},
   "source": [
    "<h2><center>AI in Healthcare</center></h2>\n",
    "<h3><center>Smart Home Activities Prediction</h3>\n",
    "\n",
    "The objective of this lab is to learn to apply the LSTM to the data collectd from Halmstad University's Smart Home"
   ]
  },
  {
   "cell_type": "markdown",
   "metadata": {},
   "source": [
    "## Imports"
   ]
  },
  {
   "cell_type": "code",
   "execution_count": 1,
   "metadata": {},
   "outputs": [],
   "source": [
    "from scipy.io import loadmat\n",
    "import numpy as np\n",
    "from numpy import array\n",
    "from pandas import DataFrame, concat\n",
    "import os\n",
    "\n",
    "import matplotlib.pyplot as plt\n",
    "import matplotlib.patches as mpatches\n",
    "\n",
    "from sklearn.preprocessing import label_binarize\n",
    "from itertools import cycle\n",
    "\n",
    "from sklearn.model_selection import train_test_split\n",
    "\n",
    "from sklearn.preprocessing import OneHotEncoder, LabelEncoder\n",
    "from keras.preprocessing.sequence import TimeseriesGenerator\n",
    "\n",
    "import tensorflow as tf\n",
    "from tensorflow.keras.layers import LSTM, Dense, LeakyReLU, TimeDistributed, RepeatVector\n",
    "from tensorflow.keras import Model, Input\n",
    "from tensorflow.keras.optimizers import Adam\n",
    "from keras.models import Sequential\n",
    "tf.compat.v1.logging.set_verbosity(tf.compat.v1.logging.ERROR)\n",
    "\n",
    "from sklearn.metrics import confusion_matrix, plot_roc_curve, roc_curve, auc, roc_auc_score"
   ]
  },
  {
   "cell_type": "code",
   "execution_count": 2,
   "metadata": {},
   "outputs": [
    {
     "data": {
      "image/png": "[encoded data removed]",
      "text/plain": [
       "<Figure size 1080x432 with 1 Axes>"
      ]
     },
     "metadata": {
      "needs_background": "light"
     },
     "output_type": "display_data"
    }
   ],
   "source": [
    "data = loadmat(f\"{os.getcwd()}/Data.mat\")\n",
    "\n",
    "DatesVectors = np.array(data['DatesVectors'])\n",
    "SensorsVals = np.array(data['SensorsVals'])\n",
    "Labels = np.array(data['Labels'])\n",
    "Labels = Labels[7401:,:]\n",
    "\n",
    "SensorsVals = SensorsVals.astype('int')\n",
    "SensorsVals = SensorsVals[7401:,:]\n",
    "SensorsVals = np.concatenate(SensorsVals,axis=0)\n",
    "\n",
    "TrainLabels=Labels\n",
    "TrainLabels=np.ravel(TrainLabels)\n",
    "TrainLabels=np.array(TrainLabels)\n",
    "\n",
    "Classes=['Living2','Living1','Bedroom','Kitchen','Study','Bathroom']\n",
    "Indexes=[] # creat an empty list\n",
    "for kk in range(len(Classes)):\n",
    "    lbl=Classes[kk]\n",
    "    idx=np.argwhere(TrainLabels==lbl)\n",
    "    Indexes.append(idx)\n",
    "    \n",
    "\n",
    "Colors=['c','y','b','r','k','g']\n",
    "fig = plt.figure(figsize=(15,6))\n",
    "ax = fig.add_subplot(111)\n",
    "plt.title('Activity Labels')\n",
    "for kk in range(len(Indexes)):\n",
    "    idx=np.array(Indexes[kk])\n",
    "    for jj in range(len(idx)):\n",
    "        ax.plot(idx[jj],SensorsVals[idx[jj]],'o',color=Colors[kk],label=Classes[kk])\n",
    "        \n",
    "ax.set_ylabel('Labels in Integers',fontsize=18)\n",
    "ax.set_xlabel('Samples',fontsize=18)\n",
    "\n",
    "blue_patch = mpatches.Patch(color='blue', label='Bedroom')\n",
    "red_patch = mpatches.Patch(color='red', label='Kitchen')\n",
    "green_patch = mpatches.Patch(color='green', label='Bathroom')\n",
    "cyan_patch = mpatches.Patch(color='cyan', label='Living2')\n",
    "yellow_patch = mpatches.Patch(color='yellow', label='Living1')\n",
    "black_patch = mpatches.Patch(color='black', label='StudyRoom')\n",
    "\n",
    "\n",
    "ax.legend(handles=[cyan_patch,yellow_patch,blue_patch,red_patch,black_patch,green_patch])\n",
    "plt.show()\n"
   ]
  },
  {
   "cell_type": "markdown",
   "metadata": {},
   "source": [
    "## Instructions\n",
    "You are supposed to do a sequence of integers prediction using LSTM.\n",
    "First, try to visualize what you have in the SensorsVals. The values of SensorsVals are already concatanated into an array \n",
    "of integers.\n",
    "\n",
    "You expose the LSTM to a sequence of observation. Then, the LSTM is going to do the prediciton of the sequence after some\n",
    "training (sequence to sequence model).\n",
    "\n",
    "You may try your own methodology. The suggestion is to:\n",
    "- one hot encode the SensorsVals variables (encoded)\n",
    "- Frame the encoded sequences for learning \n",
    "\n",
    "\n"
   ]
  },
  {
   "cell_type": "markdown",
   "metadata": {},
   "source": [
    "### Encoding"
   ]
  },
  {
   "cell_type": "code",
   "execution_count": 3,
   "metadata": {},
   "outputs": [
    {
     "name": "stderr",
     "output_type": "stream",
     "text": [
      "/home/stud/j/jonfoc16/miniconda3/envs/aih/lib/python3.8/site-packages/sklearn/utils/validation.py:72: DataConversionWarning: A column-vector y was passed when a 1d array was expected. Please change the shape of y to (n_samples, ), for example using ravel().\n",
      "  return f(**kwargs)\n"
     ]
    }
   ],
   "source": [
    "'''\n",
    "With courtesy of https://machinelearningmastery.com/how-to-one-hot-encode-sequence-data-in-python/\n",
    "'''\n",
    "labels = [label[0] for label in Labels]\n",
    "# integer encode\n",
    "label_encoder = LabelEncoder()\n",
    "integer_encoded = label_encoder.fit_transform(labels)\n",
    "#print(integer_encoded)\n",
    "# binary encode\n",
    "onehot_encoder = OneHotEncoder(sparse=False)\n",
    "integer_encoded = integer_encoded.reshape(len(integer_encoded), 1)\n",
    "labels_encoded = onehot_encoder.fit_transform(integer_encoded)\n",
    "#print(labels_encoded)"
   ]
  },
  {
   "cell_type": "markdown",
   "metadata": {},
   "source": [
    "### Splitting data"
   ]
  },
  {
   "cell_type": "code",
   "execution_count": 4,
   "metadata": {},
   "outputs": [],
   "source": [
    "'''\n",
    "With courtesy of https://machinelearningmastery.com/how-to-develop-lstm-models-for-time-series-forecasting/\n",
    "'''\n",
    "# split a univariate sequence into samples\n",
    "def split_sequence(sequence, n_steps):\n",
    "    X, y = list(), list()\n",
    "    for i in range(len(sequence)):\n",
    "        # find the end of this pattern\n",
    "        end_ix = i + n_steps\n",
    "        # check if we are beyond the sequence\n",
    "        if end_ix > len(sequence)-1:\n",
    "            break\n",
    "        # gather input and output parts of the pattern\n",
    "        seq_x, seq_y = sequence[i:end_ix], sequence[end_ix]\n",
    "        X.append(seq_x)\n",
    "        y.append(seq_y)\n",
    "    return np.array(X), np.array(y)"
   ]
  },
  {
   "cell_type": "code",
   "execution_count": 5,
   "metadata": {},
   "outputs": [],
   "source": [
    "x, y = split_sequence(labels_encoded, 5)"
   ]
  },
  {
   "cell_type": "code",
   "execution_count": 6,
   "metadata": {},
   "outputs": [
    {
     "name": "stdout",
     "output_type": "stream",
     "text": [
      "Input sequence: [2 1 2 1 2]\n",
      "Corresponding output sequence: 1\n",
      "\n",
      "Encoded input sequence: \n",
      "[[0. 0. 0. 1. 0. 0.]\n",
      " [0. 0. 0. 0. 1. 0.]\n",
      " [0. 0. 0. 1. 0. 0.]\n",
      " [0. 0. 0. 0. 1. 0.]\n",
      " [0. 0. 0. 1. 0. 0.]]\n",
      "Encoded corresponding output sequence: [0. 0. 0. 0. 1. 0.]\n"
     ]
    }
   ],
   "source": [
    "print(f'Input sequence: {SensorsVals[:5]}\\nCorresponding output sequence: {SensorsVals[5]}\\n')\n",
    "print(f'Encoded input sequence: \\n{x[0]}\\nEncoded corresponding output sequence: {y[0]}')"
   ]
  },
  {
   "cell_type": "markdown",
   "metadata": {},
   "source": [
    "One-hot encoding translation:</br>\n",
    "[0 0 0 0 1 0] = 1</br>\n",
    "[0 0 0 1 0 0] = 2</br>\n",
    "[0 1 0 0 0 0] = 3</br>\n",
    "[0 0 1 0 0 0] = 4</br>\n",
    "[0 0 0 0 0 1] = 5</br>\n",
    "[1 0 0 0 0 0] = 6</br>"
   ]
  },
  {
   "cell_type": "code",
   "execution_count": 7,
   "metadata": {},
   "outputs": [],
   "source": [
    "x_train, x_test, y_train, y_test = train_test_split(x, y, test_size=0.2)"
   ]
  },
  {
   "cell_type": "markdown",
   "metadata": {},
   "source": [
    "### Construct LSTM model"
   ]
  },
  {
   "cell_type": "markdown",
   "metadata": {},
   "source": [
    "LSTM info: </br>\n",
    " [samples, timesteps, features] - Input and output required format. </br>\n",
    " Samples= the amount of sequences. </br>\n",
    " Timesteps = Length of a given sequence.</br> \n",
    " Features = Amount of separate values. </br>\n",
    " \n",
    "\n",
    " Encoder outputs a 2D array. Decoder expects a 3D array as input"
   ]
  },
  {
   "cell_type": "code",
   "execution_count": 8,
   "metadata": {},
   "outputs": [],
   "source": [
    "sequence_length = 5\n",
    "n_features = 6\n",
    "def createLSTM():    \n",
    "    input_ = Input(shape=(sequence_length, n_features))\n",
    "    lstm1 = LSTM(units=50, activation='relu')(input_)\n",
    "    output_ = Dense(units=n_features, activation='softmax')(lstm1)\n",
    "    \n",
    "    model = Model(inputs=input_, outputs=output_, name='LSTM')\n",
    "    \n",
    "    return model"
   ]
  },
  {
   "cell_type": "code",
   "execution_count": 9,
   "metadata": {},
   "outputs": [],
   "source": [
    "model = createLSTM()\n",
    "model.compile(optimizer=Adam(learning_rate=0.0005), loss='categorical_crossentropy', metrics=['accuracy'])"
   ]
  },
  {
   "cell_type": "code",
   "execution_count": 10,
   "metadata": {},
   "outputs": [
    {
     "name": "stdout",
     "output_type": "stream",
     "text": [
      "Model: \"LSTM\"\n",
      "_________________________________________________________________\n",
      "Layer (type)                 Output Shape              Param #   \n",
      "=================================================================\n",
      "input_1 (InputLayer)         [(None, 5, 6)]            0         \n",
      "_________________________________________________________________\n",
      "lstm (LSTM)                  (None, 50)                11400     \n",
      "_________________________________________________________________\n",
      "dense (Dense)                (None, 6)                 306       \n",
      "=================================================================\n",
      "Total params: 11,706\n",
      "Trainable params: 11,706\n",
      "Non-trainable params: 0\n",
      "_________________________________________________________________\n"
     ]
    }
   ],
   "source": [
    "model.summary()"
   ]
  },
  {
   "cell_type": "markdown",
   "metadata": {},
   "source": [
    "### Train model"
   ]
  },
  {
   "cell_type": "code",
   "execution_count": 11,
   "metadata": {},
   "outputs": [
    {
     "name": "stdout",
     "output_type": "stream",
     "text": [
      "Epoch 1/50\n",
      "34/34 [==============================] - 1s 18ms/step - loss: 1.7326 - accuracy: 0.4210 - val_loss: 1.6633 - val_accuracy: 0.5465\n",
      "Epoch 2/50\n",
      "34/34 [==============================] - 0s 14ms/step - loss: 1.5463 - accuracy: 0.5697 - val_loss: 1.3779 - val_accuracy: 0.5465\n",
      "Epoch 3/50\n",
      "34/34 [==============================] - 0s 14ms/step - loss: 1.1413 - accuracy: 0.5697 - val_loss: 1.0586 - val_accuracy: 0.5465\n",
      "Epoch 4/50\n",
      "34/34 [==============================] - 0s 14ms/step - loss: 0.9983 - accuracy: 0.5697 - val_loss: 1.0258 - val_accuracy: 0.5465\n",
      "Epoch 5/50\n",
      "34/34 [==============================] - 0s 14ms/step - loss: 0.9793 - accuracy: 0.5697 - val_loss: 1.0153 - val_accuracy: 0.5465\n",
      "Epoch 6/50\n",
      "34/34 [==============================] - 0s 14ms/step - loss: 0.9684 - accuracy: 0.5697 - val_loss: 1.0059 - val_accuracy: 0.5465\n",
      "Epoch 7/50\n",
      "34/34 [==============================] - 0s 14ms/step - loss: 0.9618 - accuracy: 0.5697 - val_loss: 1.0039 - val_accuracy: 0.5465\n",
      "Epoch 8/50\n",
      "34/34 [==============================] - 0s 13ms/step - loss: 0.9564 - accuracy: 0.5697 - val_loss: 0.9975 - val_accuracy: 0.5465\n",
      "Epoch 9/50\n",
      "34/34 [==============================] - 0s 14ms/step - loss: 0.9515 - accuracy: 0.5771 - val_loss: 0.9911 - val_accuracy: 0.5539\n",
      "Epoch 10/50\n",
      "34/34 [==============================] - 0s 14ms/step - loss: 0.9488 - accuracy: 0.5790 - val_loss: 0.9914 - val_accuracy: 0.5539\n",
      "Epoch 11/50\n",
      "34/34 [==============================] - 0s 14ms/step - loss: 0.9445 - accuracy: 0.5864 - val_loss: 0.9877 - val_accuracy: 0.5428\n",
      "Epoch 12/50\n",
      "34/34 [==============================] - 0s 14ms/step - loss: 0.9445 - accuracy: 0.5799 - val_loss: 0.9853 - val_accuracy: 0.5539\n",
      "Epoch 13/50\n",
      "34/34 [==============================] - 1s 17ms/step - loss: 0.9406 - accuracy: 0.5818 - val_loss: 0.9815 - val_accuracy: 0.5762\n",
      "Epoch 14/50\n",
      "34/34 [==============================] - 0s 13ms/step - loss: 0.9395 - accuracy: 0.5809 - val_loss: 0.9861 - val_accuracy: 0.5539\n",
      "Epoch 15/50\n",
      "34/34 [==============================] - 0s 14ms/step - loss: 0.9363 - accuracy: 0.5809 - val_loss: 0.9871 - val_accuracy: 0.5539\n",
      "Epoch 16/50\n",
      "34/34 [==============================] - 0s 14ms/step - loss: 0.9348 - accuracy: 0.5790 - val_loss: 0.9760 - val_accuracy: 0.5613\n",
      "Epoch 17/50\n",
      "34/34 [==============================] - 0s 14ms/step - loss: 0.9308 - accuracy: 0.5818 - val_loss: 0.9751 - val_accuracy: 0.5911\n",
      "Epoch 18/50\n",
      "34/34 [==============================] - 0s 14ms/step - loss: 0.9370 - accuracy: 0.5911 - val_loss: 0.9790 - val_accuracy: 0.5613\n",
      "Epoch 19/50\n",
      "34/34 [==============================] - 0s 14ms/step - loss: 0.9334 - accuracy: 0.5771 - val_loss: 0.9757 - val_accuracy: 0.5576\n",
      "Epoch 20/50\n",
      "34/34 [==============================] - 0s 13ms/step - loss: 0.9255 - accuracy: 0.5892 - val_loss: 0.9764 - val_accuracy: 0.5613\n",
      "Epoch 21/50\n",
      "34/34 [==============================] - 0s 14ms/step - loss: 0.9257 - accuracy: 0.5846 - val_loss: 0.9664 - val_accuracy: 0.5725\n",
      "Epoch 22/50\n",
      "34/34 [==============================] - 0s 13ms/step - loss: 0.9228 - accuracy: 0.5762 - val_loss: 0.9748 - val_accuracy: 0.5613\n",
      "Epoch 23/50\n",
      "34/34 [==============================] - 0s 13ms/step - loss: 0.9232 - accuracy: 0.5781 - val_loss: 0.9639 - val_accuracy: 0.5576\n",
      "Epoch 24/50\n",
      "34/34 [==============================] - 0s 13ms/step - loss: 0.9197 - accuracy: 0.5762 - val_loss: 0.9731 - val_accuracy: 0.5613\n",
      "Epoch 25/50\n",
      "34/34 [==============================] - 0s 14ms/step - loss: 0.9215 - accuracy: 0.5771 - val_loss: 0.9625 - val_accuracy: 0.5576\n",
      "Epoch 26/50\n",
      "34/34 [==============================] - 0s 14ms/step - loss: 0.9167 - accuracy: 0.5818 - val_loss: 0.9566 - val_accuracy: 0.5799\n",
      "Epoch 27/50\n",
      "34/34 [==============================] - 0s 13ms/step - loss: 0.9145 - accuracy: 0.5874 - val_loss: 0.9888 - val_accuracy: 0.5613\n",
      "Epoch 28/50\n",
      "34/34 [==============================] - 0s 14ms/step - loss: 0.9152 - accuracy: 0.5827 - val_loss: 0.9579 - val_accuracy: 0.5576\n",
      "Epoch 29/50\n",
      "34/34 [==============================] - 0s 14ms/step - loss: 0.9124 - accuracy: 0.5753 - val_loss: 0.9563 - val_accuracy: 0.5576\n",
      "Epoch 30/50\n",
      "34/34 [==============================] - 0s 13ms/step - loss: 0.9098 - accuracy: 0.5799 - val_loss: 0.9549 - val_accuracy: 0.5576\n",
      "Epoch 31/50\n",
      "34/34 [==============================] - 0s 14ms/step - loss: 0.9164 - accuracy: 0.5883 - val_loss: 0.9529 - val_accuracy: 0.5576\n",
      "Epoch 32/50\n",
      "34/34 [==============================] - 0s 14ms/step - loss: 0.9101 - accuracy: 0.5753 - val_loss: 0.9529 - val_accuracy: 0.5576\n",
      "Epoch 33/50\n",
      "34/34 [==============================] - 0s 14ms/step - loss: 0.9053 - accuracy: 0.5809 - val_loss: 0.9470 - val_accuracy: 0.5725\n",
      "Epoch 34/50\n",
      "34/34 [==============================] - 0s 14ms/step - loss: 0.9024 - accuracy: 0.5836 - val_loss: 0.9657 - val_accuracy: 0.5613\n",
      "Epoch 35/50\n",
      "34/34 [==============================] - 0s 13ms/step - loss: 0.9071 - accuracy: 0.5762 - val_loss: 0.9531 - val_accuracy: 0.5688\n",
      "Epoch 36/50\n",
      "34/34 [==============================] - 0s 14ms/step - loss: 0.9027 - accuracy: 0.5753 - val_loss: 0.9412 - val_accuracy: 0.5799\n",
      "Epoch 37/50\n",
      "34/34 [==============================] - 0s 14ms/step - loss: 0.8974 - accuracy: 0.5939 - val_loss: 0.9629 - val_accuracy: 0.5613\n",
      "Epoch 38/50\n",
      "34/34 [==============================] - 0s 14ms/step - loss: 0.9026 - accuracy: 0.5809 - val_loss: 0.9450 - val_accuracy: 0.5688\n",
      "Epoch 39/50\n",
      "34/34 [==============================] - 0s 14ms/step - loss: 0.8980 - accuracy: 0.5892 - val_loss: 0.9388 - val_accuracy: 0.5576\n",
      "Epoch 40/50\n",
      "34/34 [==============================] - 0s 14ms/step - loss: 0.8952 - accuracy: 0.5651 - val_loss: 0.9382 - val_accuracy: 0.5576\n",
      "Epoch 41/50\n",
      "34/34 [==============================] - 0s 13ms/step - loss: 0.8931 - accuracy: 0.5753 - val_loss: 0.9356 - val_accuracy: 0.5576\n",
      "Epoch 42/50\n",
      "34/34 [==============================] - 0s 13ms/step - loss: 0.8950 - accuracy: 0.5846 - val_loss: 0.9269 - val_accuracy: 0.5874\n",
      "Epoch 43/50\n",
      "34/34 [==============================] - 0s 13ms/step - loss: 0.8916 - accuracy: 0.5706 - val_loss: 0.9276 - val_accuracy: 0.5762\n",
      "Epoch 44/50\n",
      "34/34 [==============================] - 0s 13ms/step - loss: 0.8890 - accuracy: 0.5725 - val_loss: 0.9257 - val_accuracy: 0.5576\n",
      "Epoch 45/50\n",
      "34/34 [==============================] - 0s 14ms/step - loss: 0.8910 - accuracy: 0.5781 - val_loss: 0.9212 - val_accuracy: 0.5762\n",
      "Epoch 46/50\n",
      "34/34 [==============================] - 0s 14ms/step - loss: 0.8896 - accuracy: 0.5911 - val_loss: 0.9205 - val_accuracy: 0.5688\n",
      "Epoch 47/50\n",
      "34/34 [==============================] - 0s 14ms/step - loss: 0.8867 - accuracy: 0.5874 - val_loss: 0.9209 - val_accuracy: 0.5688\n",
      "Epoch 48/50\n",
      "34/34 [==============================] - 0s 14ms/step - loss: 0.8862 - accuracy: 0.5836 - val_loss: 0.9255 - val_accuracy: 0.5688\n",
      "Epoch 49/50\n",
      "34/34 [==============================] - 0s 13ms/step - loss: 0.8819 - accuracy: 0.5920 - val_loss: 0.9218 - val_accuracy: 0.5762\n",
      "Epoch 50/50\n",
      "34/34 [==============================] - 0s 14ms/step - loss: 0.8814 - accuracy: 0.5743 - val_loss: 0.9139 - val_accuracy: 0.5799\n"
     ]
    },
    {
     "data": {
      "text/plain": [
       "<tensorflow.python.keras.callbacks.History at 0x7f12b01add30>"
      ]
     },
     "execution_count": 11,
     "metadata": {},
     "output_type": "execute_result"
    }
   ],
   "source": [
    "EPOCHS = 50\n",
    "\n",
    "model.fit(x_train, \n",
    "          y_train, \n",
    "          epochs=EPOCHS, \n",
    "          validation_data=(x_test, y_test)\n",
    "         )"
   ]
  },
  {
   "cell_type": "markdown",
   "metadata": {},
   "source": [
    "### Make predictions"
   ]
  },
  {
   "cell_type": "code",
   "execution_count": 12,
   "metadata": {},
   "outputs": [],
   "source": [
    "predictions = model.predict(x_test)"
   ]
  },
  {
   "cell_type": "code",
   "execution_count": 13,
   "metadata": {},
   "outputs": [],
   "source": [
    "# Converts the predictions into one-hot encoded format.\n",
    "def oneHotPredictions(predictions):\n",
    "    return_array = np.zeros(predictions.shape)\n",
    "    row = 0\n",
    "    for true, predicted in zip(y_test, predictions):\n",
    "        return_array[row][np.argmax(predicted, axis=0)] = 1\n",
    "        row+=1\n",
    "        \n",
    "    return return_array"
   ]
  },
  {
   "cell_type": "code",
   "execution_count": 14,
   "metadata": {},
   "outputs": [],
   "source": [
    "predictions = oneHotPredictions(predictions)"
   ]
  },
  {
   "cell_type": "markdown",
   "metadata": {},
   "source": [
    "### Confusion matrix"
   ]
  },
  {
   "cell_type": "code",
   "execution_count": 15,
   "metadata": {},
   "outputs": [],
   "source": [
    "conf_mat = confusion_matrix(y_true=y_test.argmax(axis=1), y_pred=predictions.argmax(axis=1))"
   ]
  },
  {
   "cell_type": "code",
   "execution_count": 16,
   "metadata": {},
   "outputs": [],
   "source": [
    "def plot_confusion_matrix(cm,\n",
    "                          target_names,\n",
    "                          title='Confusion matrix',\n",
    "                          cmap=None,\n",
    "                          normalize=True):\n",
    "    \"\"\"\n",
    "    Citiation\n",
    "    ---------\n",
    "    http://scikit-learn.org/stable/auto_examples/model_selection/plot_confusion_matrix.html\n",
    "\n",
    "    \"\"\"\n",
    "    import itertools\n",
    "\n",
    "    accuracy = np.trace(cm) / float(np.sum(cm))\n",
    "    misclass = 1 - accuracy\n",
    "\n",
    "    if cmap is None:\n",
    "        cmap = plt.get_cmap('Blues')\n",
    "\n",
    "    plt.figure(figsize=(8, 6))\n",
    "    plt.imshow(cm, interpolation='nearest', cmap=cmap)\n",
    "    plt.title(title)\n",
    "    plt.colorbar()\n",
    "\n",
    "    if target_names is not None:\n",
    "        tick_marks = np.arange(len(target_names))\n",
    "        plt.xticks(tick_marks, target_names, rotation=45)\n",
    "        plt.yticks(tick_marks, target_names)\n",
    "\n",
    "    if normalize:\n",
    "        cm = cm.astype('float') / cm.sum(axis=1)[:, np.newaxis]\n",
    "\n",
    "\n",
    "    thresh = cm.max() / 1.5 if normalize else cm.max() / 2\n",
    "    for i, j in itertools.product(range(cm.shape[0]), range(cm.shape[1])):\n",
    "        if normalize:\n",
    "            plt.text(j, i, \"{:0.4f}\".format(cm[i, j]),\n",
    "                     horizontalalignment=\"center\",\n",
    "                     color=\"white\" if cm[i, j] > thresh else \"black\")\n",
    "        else:\n",
    "            plt.text(j, i, \"{:,}\".format(cm[i, j]),\n",
    "                     horizontalalignment=\"center\",\n",
    "                     color=\"white\" if cm[i, j] > thresh else \"black\")\n",
    "\n",
    "\n",
    "    plt.tight_layout()\n",
    "    plt.ylabel('True label')\n",
    "    plt.xlabel('Predicted label\\naccuracy={:0.4f}'.format(accuracy))\n",
    "    plt.show()"
   ]
  },
  {
   "cell_type": "code",
   "execution_count": 17,
   "metadata": {},
   "outputs": [
    {
     "data": {
      "image/png": "[encoded data removed]",
      "text/plain": [
       "<Figure size 576x432 with 2 Axes>"
      ]
     },
     "metadata": {
      "needs_background": "light"
     },
     "output_type": "display_data"
    }
   ],
   "source": [
    "plot_confusion_matrix(cm           = conf_mat, \n",
    "                      normalize    = False,\n",
    "                      target_names = ['6', '3', '4', '2', '1', '5'],\n",
    "                      title        = \"Confusion Matrix\")"
   ]
  }
 ],
 "metadata": {
  "kernelspec": {
   "display_name": "Python 3",
   "language": "python",
   "name": "python3"
  },
  "language_info": {
   "codemirror_mode": {
    "name": "ipython",
    "version": 3
   },
   "file_extension": ".py",
   "mimetype": "text/x-python",
   "name": "python",
   "nbconvert_exporter": "python",
   "pygments_lexer": "ipython3",
   "version": "3.8.5"
  }
 },
 "nbformat": 4,
 "nbformat_minor": 4
}
